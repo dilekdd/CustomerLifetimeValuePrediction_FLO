{
 "cells": [
  {
   "cell_type": "markdown",
   "id": "81e2a291",
   "metadata": {
    "papermill": {
     "duration": 0.012393,
     "end_time": "2024-09-08T16:48:28.136549",
     "exception": false,
     "start_time": "2024-09-08T16:48:28.124156",
     "status": "completed"
    },
    "tags": []
   },
   "source": [
    "<div style=\"text-align: center; font-size: 24px; font-weight: bold; color: red;\">\n",
    "    Customer Lifetime Value Prediction _ FLO\n",
    "</div>"
   ]
  },
  {
   "cell_type": "markdown",
   "id": "d66bb156",
   "metadata": {
    "papermill": {
     "duration": 0.01032,
     "end_time": "2024-09-08T16:48:28.157692",
     "exception": false,
     "start_time": "2024-09-08T16:48:28.147372",
     "status": "completed"
    },
    "tags": []
   },
   "source": [
    "FLO, an online shoe store, wants to segment its customers and develop marketing strategies based on these segments. Customer behaviors will be analyzed, and groups will be formed according to clusters identified in these behaviors.\n",
    "\n",
    "The dataset consists of information derived from the past shopping behaviors of FLO customers who made their last purchases through OmniChannel (both online and offline) in the years 2020-2021.\n",
    "\n",
    "FLO wants to establish a roadmap for its sales and marketing activities. In order for the company to make medium to long-term plans, it is necessary to estimate the potential value that existing customers will provide to the company in the future.\n",
    "\n",
    "Data Dictionary\n",
    "\n",
    "| **Variable** | **Description** |\n",
    "|--------------|-----------------|\n",
    "| **master_id** | Unique customer number |\n",
    "| **order_channel** | The platform channel used for shopping (Android, iOS, Desktop, Mobile) |\n",
    "| **last_order_channel** | The channel used for the last purchase |\n",
    "| **first_order_date** | The date of the customer's first purchase |\n",
    "| **last_order_date** | The date of the customer's most recent purchase |\n",
    "| **last_order_date_online** | The date of the customer's most recent online purchase |\n",
    "| **last_order_date_offline** | The date of the customer's most recent offline purchase |\n",
    "| **order_num_total_ever_online** | Total number of purchases made by the customer on online platforms |\n",
    "| **order_num_total_ever_offline** | Total number of purchases made by the customer on offline platforms |\n",
    "| **customer_value_total_ever_offline** | The total amount spent by the customer on offline purchases |\n",
    "| **customer_value_total_ever_online** | The total amount spent by the customer on online purchases |\n",
    "| **interested_in_categories_12** | List of categories the customer has shopped in the last 12 months |\n",
    "\n",
    "\n",
    "Variables: 12  \n",
    "Observations: 19.945 "
   ]
  },
  {
   "cell_type": "code",
   "execution_count": 1,
   "id": "292e1c3a",
   "metadata": {
    "execution": {
     "iopub.execute_input": "2024-09-08T16:48:28.180628Z",
     "iopub.status.busy": "2024-09-08T16:48:28.180083Z",
     "iopub.status.idle": "2024-09-08T16:48:48.519115Z",
     "shell.execute_reply": "2024-09-08T16:48:48.517789Z"
    },
    "papermill": {
     "duration": 20.353744,
     "end_time": "2024-09-08T16:48:48.522004",
     "exception": false,
     "start_time": "2024-09-08T16:48:28.168260",
     "status": "completed"
    },
    "tags": []
   },
   "outputs": [
    {
     "name": "stdout",
     "output_type": "stream",
     "text": [
      "Collecting lifetimes\r\n",
      "  Downloading Lifetimes-0.11.3-py3-none-any.whl.metadata (4.8 kB)\r\n",
      "Requirement already satisfied: numpy>=1.10.0 in /opt/conda/lib/python3.10/site-packages (from lifetimes) (1.26.4)\r\n",
      "Requirement already satisfied: scipy>=1.0.0 in /opt/conda/lib/python3.10/site-packages (from lifetimes) (1.14.0)\r\n",
      "Requirement already satisfied: pandas>=0.24.0 in /opt/conda/lib/python3.10/site-packages (from lifetimes) (2.2.2)\r\n",
      "Collecting autograd>=1.2.0 (from lifetimes)\r\n",
      "  Downloading autograd-1.7.0-py3-none-any.whl.metadata (7.5 kB)\r\n",
      "Requirement already satisfied: dill>=0.2.6 in /opt/conda/lib/python3.10/site-packages (from lifetimes) (0.3.8)\r\n",
      "Requirement already satisfied: python-dateutil>=2.8.2 in /opt/conda/lib/python3.10/site-packages (from pandas>=0.24.0->lifetimes) (2.9.0.post0)\r\n",
      "Requirement already satisfied: pytz>=2020.1 in /opt/conda/lib/python3.10/site-packages (from pandas>=0.24.0->lifetimes) (2024.1)\r\n",
      "Requirement already satisfied: tzdata>=2022.7 in /opt/conda/lib/python3.10/site-packages (from pandas>=0.24.0->lifetimes) (2024.1)\r\n",
      "Requirement already satisfied: six>=1.5 in /opt/conda/lib/python3.10/site-packages (from python-dateutil>=2.8.2->pandas>=0.24.0->lifetimes) (1.16.0)\r\n",
      "Downloading Lifetimes-0.11.3-py3-none-any.whl (584 kB)\r\n",
      "\u001b[2K   \u001b[90m━━━━━━━━━━━━━━━━━━━━━━━━━━━━━━━━━━━━━━━━\u001b[0m \u001b[32m584.2/584.2 kB\u001b[0m \u001b[31m9.9 MB/s\u001b[0m eta \u001b[36m0:00:00\u001b[0m\r\n",
      "\u001b[?25hDownloading autograd-1.7.0-py3-none-any.whl (52 kB)\r\n",
      "\u001b[2K   \u001b[90m━━━━━━━━━━━━━━━━━━━━━━━━━━━━━━━━━━━━━━━━\u001b[0m \u001b[32m52.5/52.5 kB\u001b[0m \u001b[31m2.0 MB/s\u001b[0m eta \u001b[36m0:00:00\u001b[0m\r\n",
      "\u001b[?25hInstalling collected packages: autograd, lifetimes\r\n",
      "Successfully installed autograd-1.7.0 lifetimes-0.11.3\r\n"
     ]
    }
   ],
   "source": [
    "!pip install lifetimes\n",
    "import datetime as dt\n",
    "import pandas as pd\n",
    "import matplotlib.pyplot as plt\n",
    "from lifetimes import BetaGeoFitter\n",
    "from lifetimes import GammaGammaFitter\n",
    "from lifetimes.plotting import plot_period_transactions\n",
    "\n",
    "pd.set_option('display.max_columns', None)\n",
    "pd.set_option('display.width', 500)\n",
    "pd.set_option('display.float_format', lambda x: '%.4f' % x)\n",
    "from sklearn.preprocessing import MinMaxScaler"
   ]
  },
  {
   "cell_type": "code",
   "execution_count": 2,
   "id": "e095ea56",
   "metadata": {
    "execution": {
     "iopub.execute_input": "2024-09-08T16:48:48.548693Z",
     "iopub.status.busy": "2024-09-08T16:48:48.548029Z",
     "iopub.status.idle": "2024-09-08T16:48:48.714825Z",
     "shell.execute_reply": "2024-09-08T16:48:48.713258Z"
    },
    "papermill": {
     "duration": 0.183508,
     "end_time": "2024-09-08T16:48:48.717761",
     "exception": false,
     "start_time": "2024-09-08T16:48:48.534253",
     "status": "completed"
    },
    "tags": []
   },
   "outputs": [],
   "source": [
    "df_ = pd.read_csv(\"/kaggle/input/flo-dataset/flo_data_20k.csv\")\n",
    "\n",
    "df = df_.copy()"
   ]
  },
  {
   "cell_type": "markdown",
   "id": "d3f63c55",
   "metadata": {
    "papermill": {
     "duration": 0.011219,
     "end_time": "2024-09-08T16:48:48.740777",
     "exception": false,
     "start_time": "2024-09-08T16:48:48.729558",
     "status": "completed"
    },
    "tags": []
   },
   "source": [
    "Define the outlier_thresholds and replace_with_thresholds functions required to suppress outliers.\n",
    "\n",
    "Note: When calculating cltv, frequency values ​​must be integer. Therefore, round the lower and upper limits with round()."
   ]
  },
  {
   "cell_type": "code",
   "execution_count": 3,
   "id": "dc822adb",
   "metadata": {
    "execution": {
     "iopub.execute_input": "2024-09-08T16:48:48.766146Z",
     "iopub.status.busy": "2024-09-08T16:48:48.765669Z",
     "iopub.status.idle": "2024-09-08T16:48:48.775067Z",
     "shell.execute_reply": "2024-09-08T16:48:48.773711Z"
    },
    "papermill": {
     "duration": 0.025255,
     "end_time": "2024-09-08T16:48:48.777741",
     "exception": false,
     "start_time": "2024-09-08T16:48:48.752486",
     "status": "completed"
    },
    "tags": []
   },
   "outputs": [],
   "source": [
    "def outlier_thresholds(dataframe, variable):\n",
    "    quartile1 = dataframe[variable].quantile(0.01)\n",
    "    quartile3 = dataframe[variable].quantile(0.99)\n",
    "    interquantile_range = quartile3 - quartile1\n",
    "    up_limit = (quartile3 + 1.5 * interquantile_range).round()\n",
    "    low_limit = (quartile1 - 1.5 * interquantile_range).round()\n",
    "    return low_limit, up_limit\n",
    "\n",
    "\n",
    "def replace_with_thresholds(dataframe, variable):\n",
    "    low_limit, up_limit = outlier_thresholds(dataframe, variable)\n",
    "    dataframe.loc[(dataframe[variable] < low_limit), variable] = low_limit\n",
    "    dataframe.loc[(dataframe[variable] > up_limit), variable] = up_limit"
   ]
  },
  {
   "cell_type": "markdown",
   "id": "53422aa7",
   "metadata": {
    "papermill": {
     "duration": 0.011258,
     "end_time": "2024-09-08T16:48:48.800854",
     "exception": false,
     "start_time": "2024-09-08T16:48:48.789596",
     "status": "completed"
    },
    "tags": []
   },
   "source": [
    "Suppress any outliers in the variables \"order_num_total_ever_online\",\"order_num_total_ever_offline\",\"customer_value_total_ever_offline\",\"customer_value_total_ever_online\"."
   ]
  },
  {
   "cell_type": "code",
   "execution_count": 4,
   "id": "c96a8a46",
   "metadata": {
    "execution": {
     "iopub.execute_input": "2024-09-08T16:48:48.827765Z",
     "iopub.status.busy": "2024-09-08T16:48:48.827332Z",
     "iopub.status.idle": "2024-09-08T16:48:48.858343Z",
     "shell.execute_reply": "2024-09-08T16:48:48.856885Z"
    },
    "papermill": {
     "duration": 0.048109,
     "end_time": "2024-09-08T16:48:48.861373",
     "exception": false,
     "start_time": "2024-09-08T16:48:48.813264",
     "status": "completed"
    },
    "tags": []
   },
   "outputs": [],
   "source": [
    "replace_with_thresholds(df, \"order_num_total_ever_online\")\n",
    "replace_with_thresholds(df, \"order_num_total_ever_offline\")\n",
    "replace_with_thresholds(df, \"customer_value_total_ever_offline\")\n",
    "replace_with_thresholds(df, \"customer_value_total_ever_online\")"
   ]
  },
  {
   "cell_type": "markdown",
   "id": "8f773eec",
   "metadata": {
    "papermill": {
     "duration": 0.011462,
     "end_time": "2024-09-08T16:48:48.884475",
     "exception": false,
     "start_time": "2024-09-08T16:48:48.873013",
     "status": "completed"
    },
    "tags": []
   },
   "source": [
    "Omnichannel refers to customers shopping from both online and offline platforms.\n",
    "Create new variables for each customer's total number of purchases and spending."
   ]
  },
  {
   "cell_type": "code",
   "execution_count": 5,
   "id": "2a32a568",
   "metadata": {
    "execution": {
     "iopub.execute_input": "2024-09-08T16:48:48.910415Z",
     "iopub.status.busy": "2024-09-08T16:48:48.909930Z",
     "iopub.status.idle": "2024-09-08T16:48:48.919360Z",
     "shell.execute_reply": "2024-09-08T16:48:48.917861Z"
    },
    "papermill": {
     "duration": 0.025502,
     "end_time": "2024-09-08T16:48:48.922120",
     "exception": false,
     "start_time": "2024-09-08T16:48:48.896618",
     "status": "completed"
    },
    "tags": []
   },
   "outputs": [],
   "source": [
    "df[\"total_customer_value\"] = df[\"customer_value_total_ever_offline\"] + df[\"customer_value_total_ever_online\"]\n",
    "\n",
    "df[\"total_order_num\"] = df[\"order_num_total_ever_online\"] + df[\"order_num_total_ever_offline\"]"
   ]
  },
  {
   "cell_type": "code",
   "execution_count": 6,
   "id": "23258f33",
   "metadata": {
    "execution": {
     "iopub.execute_input": "2024-09-08T16:48:48.947787Z",
     "iopub.status.busy": "2024-09-08T16:48:48.947344Z",
     "iopub.status.idle": "2024-09-08T16:48:48.974549Z",
     "shell.execute_reply": "2024-09-08T16:48:48.973350Z"
    },
    "papermill": {
     "duration": 0.043262,
     "end_time": "2024-09-08T16:48:48.977389",
     "exception": false,
     "start_time": "2024-09-08T16:48:48.934127",
     "status": "completed"
    },
    "tags": []
   },
   "outputs": [
    {
     "data": {
      "text/html": [
       "<div>\n",
       "<style scoped>\n",
       "    .dataframe tbody tr th:only-of-type {\n",
       "        vertical-align: middle;\n",
       "    }\n",
       "\n",
       "    .dataframe tbody tr th {\n",
       "        vertical-align: top;\n",
       "    }\n",
       "\n",
       "    .dataframe thead th {\n",
       "        text-align: right;\n",
       "    }\n",
       "</style>\n",
       "<table border=\"1\" class=\"dataframe\">\n",
       "  <thead>\n",
       "    <tr style=\"text-align: right;\">\n",
       "      <th></th>\n",
       "      <th>master_id</th>\n",
       "      <th>order_channel</th>\n",
       "      <th>last_order_channel</th>\n",
       "      <th>first_order_date</th>\n",
       "      <th>last_order_date</th>\n",
       "      <th>last_order_date_online</th>\n",
       "      <th>last_order_date_offline</th>\n",
       "      <th>order_num_total_ever_online</th>\n",
       "      <th>order_num_total_ever_offline</th>\n",
       "      <th>customer_value_total_ever_offline</th>\n",
       "      <th>customer_value_total_ever_online</th>\n",
       "      <th>interested_in_categories_12</th>\n",
       "      <th>total_customer_value</th>\n",
       "      <th>total_order_num</th>\n",
       "    </tr>\n",
       "  </thead>\n",
       "  <tbody>\n",
       "    <tr>\n",
       "      <th>0</th>\n",
       "      <td>cc294636-19f0-11eb-8d74-000d3a38a36f</td>\n",
       "      <td>Android App</td>\n",
       "      <td>Offline</td>\n",
       "      <td>2020-10-30</td>\n",
       "      <td>2021-02-26</td>\n",
       "      <td>2021-02-21</td>\n",
       "      <td>2021-02-26</td>\n",
       "      <td>4.0000</td>\n",
       "      <td>1.0000</td>\n",
       "      <td>139.9900</td>\n",
       "      <td>799.3800</td>\n",
       "      <td>[KADIN]</td>\n",
       "      <td>939.3700</td>\n",
       "      <td>5.0000</td>\n",
       "    </tr>\n",
       "    <tr>\n",
       "      <th>1</th>\n",
       "      <td>f431bd5a-ab7b-11e9-a2fc-000d3a38a36f</td>\n",
       "      <td>Android App</td>\n",
       "      <td>Mobile</td>\n",
       "      <td>2017-02-08</td>\n",
       "      <td>2021-02-16</td>\n",
       "      <td>2021-02-16</td>\n",
       "      <td>2020-01-10</td>\n",
       "      <td>19.0000</td>\n",
       "      <td>2.0000</td>\n",
       "      <td>159.9700</td>\n",
       "      <td>1853.5800</td>\n",
       "      <td>[ERKEK, COCUK, KADIN, AKTIFSPOR]</td>\n",
       "      <td>2013.5500</td>\n",
       "      <td>21.0000</td>\n",
       "    </tr>\n",
       "    <tr>\n",
       "      <th>2</th>\n",
       "      <td>69b69676-1a40-11ea-941b-000d3a38a36f</td>\n",
       "      <td>Android App</td>\n",
       "      <td>Android App</td>\n",
       "      <td>2019-11-27</td>\n",
       "      <td>2020-11-27</td>\n",
       "      <td>2020-11-27</td>\n",
       "      <td>2019-12-01</td>\n",
       "      <td>3.0000</td>\n",
       "      <td>2.0000</td>\n",
       "      <td>189.9700</td>\n",
       "      <td>395.3500</td>\n",
       "      <td>[ERKEK, KADIN]</td>\n",
       "      <td>585.3200</td>\n",
       "      <td>5.0000</td>\n",
       "    </tr>\n",
       "    <tr>\n",
       "      <th>3</th>\n",
       "      <td>1854e56c-491f-11eb-806e-000d3a38a36f</td>\n",
       "      <td>Android App</td>\n",
       "      <td>Android App</td>\n",
       "      <td>2021-01-06</td>\n",
       "      <td>2021-01-17</td>\n",
       "      <td>2021-01-17</td>\n",
       "      <td>2021-01-06</td>\n",
       "      <td>1.0000</td>\n",
       "      <td>1.0000</td>\n",
       "      <td>39.9900</td>\n",
       "      <td>81.9800</td>\n",
       "      <td>[AKTIFCOCUK, COCUK]</td>\n",
       "      <td>121.9700</td>\n",
       "      <td>2.0000</td>\n",
       "    </tr>\n",
       "    <tr>\n",
       "      <th>4</th>\n",
       "      <td>d6ea1074-f1f5-11e9-9346-000d3a38a36f</td>\n",
       "      <td>Desktop</td>\n",
       "      <td>Desktop</td>\n",
       "      <td>2019-08-03</td>\n",
       "      <td>2021-03-07</td>\n",
       "      <td>2021-03-07</td>\n",
       "      <td>2019-08-03</td>\n",
       "      <td>1.0000</td>\n",
       "      <td>1.0000</td>\n",
       "      <td>49.9900</td>\n",
       "      <td>159.9900</td>\n",
       "      <td>[AKTIFSPOR]</td>\n",
       "      <td>209.9800</td>\n",
       "      <td>2.0000</td>\n",
       "    </tr>\n",
       "  </tbody>\n",
       "</table>\n",
       "</div>"
      ],
      "text/plain": [
       "                              master_id order_channel last_order_channel first_order_date last_order_date last_order_date_online last_order_date_offline  order_num_total_ever_online  order_num_total_ever_offline  customer_value_total_ever_offline  customer_value_total_ever_online       interested_in_categories_12  total_customer_value  total_order_num\n",
       "0  cc294636-19f0-11eb-8d74-000d3a38a36f   Android App            Offline       2020-10-30      2021-02-26             2021-02-21              2021-02-26                       4.0000                        1.0000                           139.9900                          799.3800                           [KADIN]              939.3700           5.0000\n",
       "1  f431bd5a-ab7b-11e9-a2fc-000d3a38a36f   Android App             Mobile       2017-02-08      2021-02-16             2021-02-16              2020-01-10                      19.0000                        2.0000                           159.9700                         1853.5800  [ERKEK, COCUK, KADIN, AKTIFSPOR]             2013.5500          21.0000\n",
       "2  69b69676-1a40-11ea-941b-000d3a38a36f   Android App        Android App       2019-11-27      2020-11-27             2020-11-27              2019-12-01                       3.0000                        2.0000                           189.9700                          395.3500                    [ERKEK, KADIN]              585.3200           5.0000\n",
       "3  1854e56c-491f-11eb-806e-000d3a38a36f   Android App        Android App       2021-01-06      2021-01-17             2021-01-17              2021-01-06                       1.0000                        1.0000                            39.9900                           81.9800               [AKTIFCOCUK, COCUK]              121.9700           2.0000\n",
       "4  d6ea1074-f1f5-11e9-9346-000d3a38a36f       Desktop            Desktop       2019-08-03      2021-03-07             2021-03-07              2019-08-03                       1.0000                        1.0000                            49.9900                          159.9900                       [AKTIFSPOR]              209.9800           2.0000"
      ]
     },
     "execution_count": 6,
     "metadata": {},
     "output_type": "execute_result"
    }
   ],
   "source": [
    "df.head()"
   ]
  },
  {
   "cell_type": "markdown",
   "id": "82d8c15d",
   "metadata": {
    "papermill": {
     "duration": 0.011928,
     "end_time": "2024-09-08T16:48:49.001535",
     "exception": false,
     "start_time": "2024-09-08T16:48:48.989607",
     "status": "completed"
    },
    "tags": []
   },
   "source": [
    "Check the variable types. Convert the type of variables representing 'dates' to date."
   ]
  },
  {
   "cell_type": "code",
   "execution_count": 7,
   "id": "901a4d69",
   "metadata": {
    "execution": {
     "iopub.execute_input": "2024-09-08T16:48:49.028896Z",
     "iopub.status.busy": "2024-09-08T16:48:49.028399Z",
     "iopub.status.idle": "2024-09-08T16:48:49.106689Z",
     "shell.execute_reply": "2024-09-08T16:48:49.105251Z"
    },
    "papermill": {
     "duration": 0.096257,
     "end_time": "2024-09-08T16:48:49.110257",
     "exception": false,
     "start_time": "2024-09-08T16:48:49.014000",
     "status": "completed"
    },
    "tags": []
   },
   "outputs": [
    {
     "name": "stdout",
     "output_type": "stream",
     "text": [
      "<class 'pandas.core.frame.DataFrame'>\n",
      "RangeIndex: 19945 entries, 0 to 19944\n",
      "Data columns (total 14 columns):\n",
      " #   Column                             Non-Null Count  Dtype         \n",
      "---  ------                             --------------  -----         \n",
      " 0   master_id                          19945 non-null  object        \n",
      " 1   order_channel                      19945 non-null  object        \n",
      " 2   last_order_channel                 19945 non-null  object        \n",
      " 3   first_order_date                   19945 non-null  datetime64[ns]\n",
      " 4   last_order_date                    19945 non-null  datetime64[ns]\n",
      " 5   last_order_date_online             19945 non-null  datetime64[ns]\n",
      " 6   last_order_date_offline            19945 non-null  datetime64[ns]\n",
      " 7   order_num_total_ever_online        19945 non-null  float64       \n",
      " 8   order_num_total_ever_offline       19945 non-null  float64       \n",
      " 9   customer_value_total_ever_offline  19945 non-null  float64       \n",
      " 10  customer_value_total_ever_online   19945 non-null  float64       \n",
      " 11  interested_in_categories_12        19945 non-null  object        \n",
      " 12  total_customer_value               19945 non-null  float64       \n",
      " 13  total_order_num                    19945 non-null  float64       \n",
      "dtypes: datetime64[ns](4), float64(6), object(4)\n",
      "memory usage: 2.1+ MB\n"
     ]
    }
   ],
   "source": [
    "date_columns = [\"first_order_date\", \"last_order_date\", \"last_order_date_online\", \"last_order_date_offline\"]\n",
    "df[date_columns] = df[date_columns].apply(pd.to_datetime)\n",
    "df.info()"
   ]
  },
  {
   "cell_type": "markdown",
   "id": "869b3834",
   "metadata": {
    "papermill": {
     "duration": 0.012292,
     "end_time": "2024-09-08T16:48:49.134999",
     "exception": false,
     "start_time": "2024-09-08T16:48:49.122707",
     "status": "completed"
    },
    "tags": []
   },
   "source": [
    "Take 2 days after the date of the last purchase in the data set as the analysis date."
   ]
  },
  {
   "cell_type": "code",
   "execution_count": 8,
   "id": "abe17798",
   "metadata": {
    "execution": {
     "iopub.execute_input": "2024-09-08T16:48:49.161310Z",
     "iopub.status.busy": "2024-09-08T16:48:49.160833Z",
     "iopub.status.idle": "2024-09-08T16:48:49.168562Z",
     "shell.execute_reply": "2024-09-08T16:48:49.167272Z"
    },
    "papermill": {
     "duration": 0.023943,
     "end_time": "2024-09-08T16:48:49.171156",
     "exception": false,
     "start_time": "2024-09-08T16:48:49.147213",
     "status": "completed"
    },
    "tags": []
   },
   "outputs": [
    {
     "name": "stdout",
     "output_type": "stream",
     "text": [
      "2021-06-01 00:00:00\n"
     ]
    }
   ],
   "source": [
    "max_order_date = df[\"last_order_date\"].max()\n",
    "\n",
    "today_date = max_order_date + pd.Timedelta(days=2)\n",
    "print(today_date)"
   ]
  },
  {
   "cell_type": "markdown",
   "id": "6c2913b4",
   "metadata": {
    "papermill": {
     "duration": 0.012557,
     "end_time": "2024-09-08T16:48:49.196044",
     "exception": false,
     "start_time": "2024-09-08T16:48:49.183487",
     "status": "completed"
    },
    "tags": []
   },
   "source": [
    "Create a new cltv dataframe containing the values ​​.customer_id, recency_cltv_weekly, T_weekly, frequency, and monetary_cltv_avg."
   ]
  },
  {
   "cell_type": "code",
   "execution_count": 9,
   "id": "ee8795bf",
   "metadata": {
    "execution": {
     "iopub.execute_input": "2024-09-08T16:48:49.222734Z",
     "iopub.status.busy": "2024-09-08T16:48:49.222285Z",
     "iopub.status.idle": "2024-09-08T16:48:49.233095Z",
     "shell.execute_reply": "2024-09-08T16:48:49.231951Z"
    },
    "papermill": {
     "duration": 0.027865,
     "end_time": "2024-09-08T16:48:49.236148",
     "exception": false,
     "start_time": "2024-09-08T16:48:49.208283",
     "status": "completed"
    },
    "tags": []
   },
   "outputs": [],
   "source": [
    "df['recency_cltv_weekly'] = (df['last_order_date'] - df['first_order_date']).dt.days / 7\n",
    "df[\"monetary_cltv_avg\"] = (df[\"total_customer_value\"] / df[\"total_order_num\"])"
   ]
  },
  {
   "cell_type": "code",
   "execution_count": 10,
   "id": "2182b04f",
   "metadata": {
    "execution": {
     "iopub.execute_input": "2024-09-08T16:48:49.264692Z",
     "iopub.status.busy": "2024-09-08T16:48:49.264196Z",
     "iopub.status.idle": "2024-09-08T16:48:51.490207Z",
     "shell.execute_reply": "2024-09-08T16:48:51.488715Z"
    },
    "papermill": {
     "duration": 2.243066,
     "end_time": "2024-09-08T16:48:51.492950",
     "exception": false,
     "start_time": "2024-09-08T16:48:49.249884",
     "status": "completed"
    },
    "tags": []
   },
   "outputs": [
    {
     "data": {
      "text/html": [
       "<div>\n",
       "<style scoped>\n",
       "    .dataframe tbody tr th:only-of-type {\n",
       "        vertical-align: middle;\n",
       "    }\n",
       "\n",
       "    .dataframe tbody tr th {\n",
       "        vertical-align: top;\n",
       "    }\n",
       "\n",
       "    .dataframe thead th {\n",
       "        text-align: right;\n",
       "    }\n",
       "</style>\n",
       "<table border=\"1\" class=\"dataframe\">\n",
       "  <thead>\n",
       "    <tr style=\"text-align: right;\">\n",
       "      <th></th>\n",
       "      <th>recency_cltv_weekly</th>\n",
       "      <th>T_weekly</th>\n",
       "      <th>frequency</th>\n",
       "      <th>monetary_cltv_avg</th>\n",
       "    </tr>\n",
       "    <tr>\n",
       "      <th>master_id</th>\n",
       "      <th></th>\n",
       "      <th></th>\n",
       "      <th></th>\n",
       "      <th></th>\n",
       "    </tr>\n",
       "  </thead>\n",
       "  <tbody>\n",
       "    <tr>\n",
       "      <th>00016786-2f5a-11ea-bb80-000d3a38a36f</th>\n",
       "      <td>78.5714</td>\n",
       "      <td>80.0000</td>\n",
       "      <td>5.0000</td>\n",
       "      <td>155.2140</td>\n",
       "    </tr>\n",
       "    <tr>\n",
       "      <th>00034aaa-a838-11e9-a2fc-000d3a38a36f</th>\n",
       "      <td>247.5714</td>\n",
       "      <td>290.1429</td>\n",
       "      <td>3.0000</td>\n",
       "      <td>89.8233</td>\n",
       "    </tr>\n",
       "    <tr>\n",
       "      <th>000be838-85df-11ea-a90b-000d3a38a36f</th>\n",
       "      <td>28.2857</td>\n",
       "      <td>58.7143</td>\n",
       "      <td>4.0000</td>\n",
       "      <td>180.6725</td>\n",
       "    </tr>\n",
       "    <tr>\n",
       "      <th>000c1fe2-a8b7-11ea-8479-000d3a38a36f</th>\n",
       "      <td>47.4286</td>\n",
       "      <td>51.2857</td>\n",
       "      <td>7.0000</td>\n",
       "      <td>124.8800</td>\n",
       "    </tr>\n",
       "    <tr>\n",
       "      <th>000f5e3e-9dde-11ea-80cd-000d3a38a36f</th>\n",
       "      <td>43.2857</td>\n",
       "      <td>46.1429</td>\n",
       "      <td>7.0000</td>\n",
       "      <td>231.4757</td>\n",
       "    </tr>\n",
       "  </tbody>\n",
       "</table>\n",
       "</div>"
      ],
      "text/plain": [
       "                                      recency_cltv_weekly  T_weekly  frequency  monetary_cltv_avg\n",
       "master_id                                                                                        \n",
       "00016786-2f5a-11ea-bb80-000d3a38a36f              78.5714   80.0000     5.0000           155.2140\n",
       "00034aaa-a838-11e9-a2fc-000d3a38a36f             247.5714  290.1429     3.0000            89.8233\n",
       "000be838-85df-11ea-a90b-000d3a38a36f              28.2857   58.7143     4.0000           180.6725\n",
       "000c1fe2-a8b7-11ea-8479-000d3a38a36f              47.4286   51.2857     7.0000           124.8800\n",
       "000f5e3e-9dde-11ea-80cd-000d3a38a36f              43.2857   46.1429     7.0000           231.4757"
      ]
     },
     "execution_count": 10,
     "metadata": {},
     "output_type": "execute_result"
    }
   ],
   "source": [
    "cltv = df.groupby('master_id').agg(\n",
    "    recency_cltv_weekly=('recency_cltv_weekly', 'sum'),\n",
    "    T_weekly=('first_order_date', lambda x: (today_date - x.min()).days / 7),\n",
    "    frequency=('total_order_num', 'sum'),\n",
    "    monetary_cltv_avg=('monetary_cltv_avg', 'sum'))\n",
    "\n",
    "cltv.head()"
   ]
  },
  {
   "cell_type": "markdown",
   "id": "48eaee16",
   "metadata": {
    "papermill": {
     "duration": 0.013375,
     "end_time": "2024-09-08T16:48:51.519403",
     "exception": false,
     "start_time": "2024-09-08T16:48:51.506028",
     "status": "completed"
    },
    "tags": []
   },
   "source": [
    "Set up the BG/NBD model."
   ]
  },
  {
   "cell_type": "code",
   "execution_count": 11,
   "id": "2f9a604a",
   "metadata": {
    "execution": {
     "iopub.execute_input": "2024-09-08T16:48:51.547138Z",
     "iopub.status.busy": "2024-09-08T16:48:51.546665Z",
     "iopub.status.idle": "2024-09-08T16:48:52.346692Z",
     "shell.execute_reply": "2024-09-08T16:48:52.345153Z"
    },
    "papermill": {
     "duration": 0.818582,
     "end_time": "2024-09-08T16:48:52.351050",
     "exception": false,
     "start_time": "2024-09-08T16:48:51.532468",
     "status": "completed"
    },
    "tags": []
   },
   "outputs": [
    {
     "data": {
      "text/plain": [
       "<lifetimes.BetaGeoFitter: fitted with 19945 subjects, a: 0.00, alpha: 76.17, b: 0.00, r: 3.66>"
      ]
     },
     "execution_count": 11,
     "metadata": {},
     "output_type": "execute_result"
    }
   ],
   "source": [
    "bgf = BetaGeoFitter(penalizer_coef=0.001)\n",
    "\n",
    "bgf.fit(cltv['frequency'],\n",
    "        cltv['recency_cltv_weekly'],\n",
    "        cltv['T_weekly'])"
   ]
  },
  {
   "cell_type": "markdown",
   "id": "93997a2a",
   "metadata": {
    "papermill": {
     "duration": 0.028714,
     "end_time": "2024-09-08T16:48:52.406743",
     "exception": false,
     "start_time": "2024-09-08T16:48:52.378029",
     "status": "completed"
    },
    "tags": []
   },
   "source": [
    "Estimate the expected purchases within the next 3 months and add it to the cltv dataframe as 'exp_sales_3_month'."
   ]
  },
  {
   "cell_type": "code",
   "execution_count": 12,
   "id": "e54c53b3",
   "metadata": {
    "execution": {
     "iopub.execute_input": "2024-09-08T16:48:52.465226Z",
     "iopub.status.busy": "2024-09-08T16:48:52.464754Z",
     "iopub.status.idle": "2024-09-08T16:48:52.512192Z",
     "shell.execute_reply": "2024-09-08T16:48:52.510991Z"
    },
    "papermill": {
     "duration": 0.079798,
     "end_time": "2024-09-08T16:48:52.515044",
     "exception": false,
     "start_time": "2024-09-08T16:48:52.435246",
     "status": "completed"
    },
    "tags": []
   },
   "outputs": [
    {
     "data": {
      "text/html": [
       "<div>\n",
       "<style scoped>\n",
       "    .dataframe tbody tr th:only-of-type {\n",
       "        vertical-align: middle;\n",
       "    }\n",
       "\n",
       "    .dataframe tbody tr th {\n",
       "        vertical-align: top;\n",
       "    }\n",
       "\n",
       "    .dataframe thead th {\n",
       "        text-align: right;\n",
       "    }\n",
       "</style>\n",
       "<table border=\"1\" class=\"dataframe\">\n",
       "  <thead>\n",
       "    <tr style=\"text-align: right;\">\n",
       "      <th></th>\n",
       "      <th>recency_cltv_weekly</th>\n",
       "      <th>T_weekly</th>\n",
       "      <th>frequency</th>\n",
       "      <th>monetary_cltv_avg</th>\n",
       "      <th>exp_sales_3_month</th>\n",
       "    </tr>\n",
       "    <tr>\n",
       "      <th>master_id</th>\n",
       "      <th></th>\n",
       "      <th></th>\n",
       "      <th></th>\n",
       "      <th></th>\n",
       "      <th></th>\n",
       "    </tr>\n",
       "  </thead>\n",
       "  <tbody>\n",
       "    <tr>\n",
       "      <th>a4d534a2-5b1b-11eb-8dbd-000d3a38a36f</th>\n",
       "      <td>62.7143</td>\n",
       "      <td>67.2857</td>\n",
       "      <td>52.0000</td>\n",
       "      <td>166.2246</td>\n",
       "      <td>4.6561</td>\n",
       "    </tr>\n",
       "    <tr>\n",
       "      <th>4a7e875e-e6ce-11ea-8f44-000d3a38a36f</th>\n",
       "      <td>39.7143</td>\n",
       "      <td>40.0000</td>\n",
       "      <td>29.0000</td>\n",
       "      <td>165.2976</td>\n",
       "      <td>3.3740</td>\n",
       "    </tr>\n",
       "    <tr>\n",
       "      <th>1902bf80-0035-11eb-8341-000d3a38a36f</th>\n",
       "      <td>28.8571</td>\n",
       "      <td>33.2857</td>\n",
       "      <td>25.0000</td>\n",
       "      <td>97.4396</td>\n",
       "      <td>3.1424</td>\n",
       "    </tr>\n",
       "    <tr>\n",
       "      <th>55d54d9e-8ac7-11ea-8ec0-000d3a38a36f</th>\n",
       "      <td>52.5714</td>\n",
       "      <td>58.7143</td>\n",
       "      <td>31.0000</td>\n",
       "      <td>228.5300</td>\n",
       "      <td>3.0838</td>\n",
       "    </tr>\n",
       "    <tr>\n",
       "      <th>f00ad516-c4f4-11ea-98f7-000d3a38a36f</th>\n",
       "      <td>38.0000</td>\n",
       "      <td>46.4286</td>\n",
       "      <td>27.0000</td>\n",
       "      <td>141.3548</td>\n",
       "      <td>3.0013</td>\n",
       "    </tr>\n",
       "  </tbody>\n",
       "</table>\n",
       "</div>"
      ],
      "text/plain": [
       "                                      recency_cltv_weekly  T_weekly  frequency  monetary_cltv_avg  exp_sales_3_month\n",
       "master_id                                                                                                           \n",
       "a4d534a2-5b1b-11eb-8dbd-000d3a38a36f              62.7143   67.2857    52.0000           166.2246             4.6561\n",
       "4a7e875e-e6ce-11ea-8f44-000d3a38a36f              39.7143   40.0000    29.0000           165.2976             3.3740\n",
       "1902bf80-0035-11eb-8341-000d3a38a36f              28.8571   33.2857    25.0000            97.4396             3.1424\n",
       "55d54d9e-8ac7-11ea-8ec0-000d3a38a36f              52.5714   58.7143    31.0000           228.5300             3.0838\n",
       "f00ad516-c4f4-11ea-98f7-000d3a38a36f              38.0000   46.4286    27.0000           141.3548             3.0013"
      ]
     },
     "execution_count": 12,
     "metadata": {},
     "output_type": "execute_result"
    }
   ],
   "source": [
    "cltv[\"exp_sales_3_month\"] = bgf.predict(12,\n",
    "            cltv['frequency'],\n",
    "            cltv['recency_cltv_weekly'],\n",
    "            cltv['T_weekly']).sort_values(ascending=False)\n",
    "\n",
    "cltv = cltv.sort_values(by=\"exp_sales_3_month\", ascending=False)\n",
    "cltv.head()"
   ]
  },
  {
   "cell_type": "markdown",
   "id": "6e65bc52",
   "metadata": {
    "papermill": {
     "duration": 0.01259,
     "end_time": "2024-09-08T16:48:52.540538",
     "exception": false,
     "start_time": "2024-09-08T16:48:52.527948",
     "status": "completed"
    },
    "tags": []
   },
   "source": [
    "Estimate the expected purchases from customers in 6 months and add it to the cltv dataframe as exp_sales_6_month."
   ]
  },
  {
   "cell_type": "code",
   "execution_count": 13,
   "id": "1b92c65e",
   "metadata": {
    "execution": {
     "iopub.execute_input": "2024-09-08T16:48:52.568225Z",
     "iopub.status.busy": "2024-09-08T16:48:52.567775Z",
     "iopub.status.idle": "2024-09-08T16:48:52.616910Z",
     "shell.execute_reply": "2024-09-08T16:48:52.615447Z"
    },
    "papermill": {
     "duration": 0.066778,
     "end_time": "2024-09-08T16:48:52.620165",
     "exception": false,
     "start_time": "2024-09-08T16:48:52.553387",
     "status": "completed"
    },
    "tags": []
   },
   "outputs": [
    {
     "data": {
      "text/html": [
       "<div>\n",
       "<style scoped>\n",
       "    .dataframe tbody tr th:only-of-type {\n",
       "        vertical-align: middle;\n",
       "    }\n",
       "\n",
       "    .dataframe tbody tr th {\n",
       "        vertical-align: top;\n",
       "    }\n",
       "\n",
       "    .dataframe thead th {\n",
       "        text-align: right;\n",
       "    }\n",
       "</style>\n",
       "<table border=\"1\" class=\"dataframe\">\n",
       "  <thead>\n",
       "    <tr style=\"text-align: right;\">\n",
       "      <th></th>\n",
       "      <th>recency_cltv_weekly</th>\n",
       "      <th>T_weekly</th>\n",
       "      <th>frequency</th>\n",
       "      <th>monetary_cltv_avg</th>\n",
       "      <th>exp_sales_3_month</th>\n",
       "      <th>exp_sales_6_month</th>\n",
       "    </tr>\n",
       "    <tr>\n",
       "      <th>master_id</th>\n",
       "      <th></th>\n",
       "      <th></th>\n",
       "      <th></th>\n",
       "      <th></th>\n",
       "      <th></th>\n",
       "      <th></th>\n",
       "    </tr>\n",
       "  </thead>\n",
       "  <tbody>\n",
       "    <tr>\n",
       "      <th>a4d534a2-5b1b-11eb-8dbd-000d3a38a36f</th>\n",
       "      <td>62.7143</td>\n",
       "      <td>67.2857</td>\n",
       "      <td>52.0000</td>\n",
       "      <td>166.2246</td>\n",
       "      <td>4.6561</td>\n",
       "      <td>9.3123</td>\n",
       "    </tr>\n",
       "    <tr>\n",
       "      <th>4a7e875e-e6ce-11ea-8f44-000d3a38a36f</th>\n",
       "      <td>39.7143</td>\n",
       "      <td>40.0000</td>\n",
       "      <td>29.0000</td>\n",
       "      <td>165.2976</td>\n",
       "      <td>3.3740</td>\n",
       "      <td>6.7479</td>\n",
       "    </tr>\n",
       "    <tr>\n",
       "      <th>1902bf80-0035-11eb-8341-000d3a38a36f</th>\n",
       "      <td>28.8571</td>\n",
       "      <td>33.2857</td>\n",
       "      <td>25.0000</td>\n",
       "      <td>97.4396</td>\n",
       "      <td>3.1424</td>\n",
       "      <td>6.2848</td>\n",
       "    </tr>\n",
       "    <tr>\n",
       "      <th>55d54d9e-8ac7-11ea-8ec0-000d3a38a36f</th>\n",
       "      <td>52.5714</td>\n",
       "      <td>58.7143</td>\n",
       "      <td>31.0000</td>\n",
       "      <td>228.5300</td>\n",
       "      <td>3.0838</td>\n",
       "      <td>6.1676</td>\n",
       "    </tr>\n",
       "    <tr>\n",
       "      <th>f00ad516-c4f4-11ea-98f7-000d3a38a36f</th>\n",
       "      <td>38.0000</td>\n",
       "      <td>46.4286</td>\n",
       "      <td>27.0000</td>\n",
       "      <td>141.3548</td>\n",
       "      <td>3.0013</td>\n",
       "      <td>6.0026</td>\n",
       "    </tr>\n",
       "  </tbody>\n",
       "</table>\n",
       "</div>"
      ],
      "text/plain": [
       "                                      recency_cltv_weekly  T_weekly  frequency  monetary_cltv_avg  exp_sales_3_month  exp_sales_6_month\n",
       "master_id                                                                                                                              \n",
       "a4d534a2-5b1b-11eb-8dbd-000d3a38a36f              62.7143   67.2857    52.0000           166.2246             4.6561             9.3123\n",
       "4a7e875e-e6ce-11ea-8f44-000d3a38a36f              39.7143   40.0000    29.0000           165.2976             3.3740             6.7479\n",
       "1902bf80-0035-11eb-8341-000d3a38a36f              28.8571   33.2857    25.0000            97.4396             3.1424             6.2848\n",
       "55d54d9e-8ac7-11ea-8ec0-000d3a38a36f              52.5714   58.7143    31.0000           228.5300             3.0838             6.1676\n",
       "f00ad516-c4f4-11ea-98f7-000d3a38a36f              38.0000   46.4286    27.0000           141.3548             3.0013             6.0026"
      ]
     },
     "execution_count": 13,
     "metadata": {},
     "output_type": "execute_result"
    }
   ],
   "source": [
    "cltv[\"exp_sales_6_month\"] = bgf.conditional_expected_number_of_purchases_up_to_time(4 * 6,\n",
    "                                                        cltv['frequency'],\n",
    "                                                        cltv['recency_cltv_weekly'],\n",
    "                                                        cltv['T_weekly']).sort_values(ascending=False)\n",
    "\n",
    "cltv = cltv.sort_values(by=\"exp_sales_6_month\", ascending=False)\n",
    "cltv.head()"
   ]
  },
  {
   "cell_type": "markdown",
   "id": "03f8667a",
   "metadata": {
    "papermill": {
     "duration": 0.013079,
     "end_time": "2024-09-08T16:48:52.646825",
     "exception": false,
     "start_time": "2024-09-08T16:48:52.633746",
     "status": "completed"
    },
    "tags": []
   },
   "source": [
    "Review the 10 people who will make the most purchases in the 3rd and 6th months."
   ]
  },
  {
   "cell_type": "code",
   "execution_count": 14,
   "id": "d69ab16e",
   "metadata": {
    "execution": {
     "iopub.execute_input": "2024-09-08T16:48:52.675657Z",
     "iopub.status.busy": "2024-09-08T16:48:52.675159Z",
     "iopub.status.idle": "2024-09-08T16:48:52.691680Z",
     "shell.execute_reply": "2024-09-08T16:48:52.690500Z"
    },
    "papermill": {
     "duration": 0.034087,
     "end_time": "2024-09-08T16:48:52.694358",
     "exception": false,
     "start_time": "2024-09-08T16:48:52.660271",
     "status": "completed"
    },
    "tags": []
   },
   "outputs": [
    {
     "data": {
      "text/html": [
       "<div>\n",
       "<style scoped>\n",
       "    .dataframe tbody tr th:only-of-type {\n",
       "        vertical-align: middle;\n",
       "    }\n",
       "\n",
       "    .dataframe tbody tr th {\n",
       "        vertical-align: top;\n",
       "    }\n",
       "\n",
       "    .dataframe thead th {\n",
       "        text-align: right;\n",
       "    }\n",
       "</style>\n",
       "<table border=\"1\" class=\"dataframe\">\n",
       "  <thead>\n",
       "    <tr style=\"text-align: right;\">\n",
       "      <th></th>\n",
       "      <th>recency_cltv_weekly</th>\n",
       "      <th>T_weekly</th>\n",
       "      <th>frequency</th>\n",
       "      <th>monetary_cltv_avg</th>\n",
       "      <th>exp_sales_3_month</th>\n",
       "      <th>exp_sales_6_month</th>\n",
       "    </tr>\n",
       "    <tr>\n",
       "      <th>master_id</th>\n",
       "      <th></th>\n",
       "      <th></th>\n",
       "      <th></th>\n",
       "      <th></th>\n",
       "      <th></th>\n",
       "      <th></th>\n",
       "    </tr>\n",
       "  </thead>\n",
       "  <tbody>\n",
       "    <tr>\n",
       "      <th>a4d534a2-5b1b-11eb-8dbd-000d3a38a36f</th>\n",
       "      <td>62.7143</td>\n",
       "      <td>67.2857</td>\n",
       "      <td>52.0000</td>\n",
       "      <td>166.2246</td>\n",
       "      <td>4.6561</td>\n",
       "      <td>9.3123</td>\n",
       "    </tr>\n",
       "    <tr>\n",
       "      <th>4a7e875e-e6ce-11ea-8f44-000d3a38a36f</th>\n",
       "      <td>39.7143</td>\n",
       "      <td>40.0000</td>\n",
       "      <td>29.0000</td>\n",
       "      <td>165.2976</td>\n",
       "      <td>3.3740</td>\n",
       "      <td>6.7479</td>\n",
       "    </tr>\n",
       "    <tr>\n",
       "      <th>1902bf80-0035-11eb-8341-000d3a38a36f</th>\n",
       "      <td>28.8571</td>\n",
       "      <td>33.2857</td>\n",
       "      <td>25.0000</td>\n",
       "      <td>97.4396</td>\n",
       "      <td>3.1424</td>\n",
       "      <td>6.2848</td>\n",
       "    </tr>\n",
       "    <tr>\n",
       "      <th>55d54d9e-8ac7-11ea-8ec0-000d3a38a36f</th>\n",
       "      <td>52.5714</td>\n",
       "      <td>58.7143</td>\n",
       "      <td>31.0000</td>\n",
       "      <td>228.5300</td>\n",
       "      <td>3.0838</td>\n",
       "      <td>6.1676</td>\n",
       "    </tr>\n",
       "    <tr>\n",
       "      <th>f00ad516-c4f4-11ea-98f7-000d3a38a36f</th>\n",
       "      <td>38.0000</td>\n",
       "      <td>46.4286</td>\n",
       "      <td>27.0000</td>\n",
       "      <td>141.3548</td>\n",
       "      <td>3.0013</td>\n",
       "      <td>6.0026</td>\n",
       "    </tr>\n",
       "    <tr>\n",
       "      <th>7af5cd16-b100-11e9-9757-000d3a38a36f</th>\n",
       "      <td>103.1429</td>\n",
       "      <td>111.8571</td>\n",
       "      <td>43.0000</td>\n",
       "      <td>157.1126</td>\n",
       "      <td>2.9780</td>\n",
       "      <td>5.9561</td>\n",
       "    </tr>\n",
       "    <tr>\n",
       "      <th>d5ef8058-a5c6-11e9-a2fc-000d3a38a36f</th>\n",
       "      <td>133.1429</td>\n",
       "      <td>147.1429</td>\n",
       "      <td>49.0000</td>\n",
       "      <td>161.8467</td>\n",
       "      <td>2.8299</td>\n",
       "      <td>5.6598</td>\n",
       "    </tr>\n",
       "    <tr>\n",
       "      <th>27310582-6362-11ea-a6dc-000d3a38a36f</th>\n",
       "      <td>62.7143</td>\n",
       "      <td>64.1429</td>\n",
       "      <td>29.0000</td>\n",
       "      <td>168.8810</td>\n",
       "      <td>2.7934</td>\n",
       "      <td>5.5869</td>\n",
       "    </tr>\n",
       "    <tr>\n",
       "      <th>53fe00d4-7b7a-11eb-960b-000d3a38a36f</th>\n",
       "      <td>9.7143</td>\n",
       "      <td>13.0000</td>\n",
       "      <td>17.0000</td>\n",
       "      <td>259.8653</td>\n",
       "      <td>2.7807</td>\n",
       "      <td>5.5614</td>\n",
       "    </tr>\n",
       "    <tr>\n",
       "      <th>e143b6fa-d6f8-11e9-93bc-000d3a38a36f</th>\n",
       "      <td>104.5714</td>\n",
       "      <td>113.4286</td>\n",
       "      <td>40.0000</td>\n",
       "      <td>176.2000</td>\n",
       "      <td>2.7635</td>\n",
       "      <td>5.5270</td>\n",
       "    </tr>\n",
       "  </tbody>\n",
       "</table>\n",
       "</div>"
      ],
      "text/plain": [
       "                                      recency_cltv_weekly  T_weekly  frequency  monetary_cltv_avg  exp_sales_3_month  exp_sales_6_month\n",
       "master_id                                                                                                                              \n",
       "a4d534a2-5b1b-11eb-8dbd-000d3a38a36f              62.7143   67.2857    52.0000           166.2246             4.6561             9.3123\n",
       "4a7e875e-e6ce-11ea-8f44-000d3a38a36f              39.7143   40.0000    29.0000           165.2976             3.3740             6.7479\n",
       "1902bf80-0035-11eb-8341-000d3a38a36f              28.8571   33.2857    25.0000            97.4396             3.1424             6.2848\n",
       "55d54d9e-8ac7-11ea-8ec0-000d3a38a36f              52.5714   58.7143    31.0000           228.5300             3.0838             6.1676\n",
       "f00ad516-c4f4-11ea-98f7-000d3a38a36f              38.0000   46.4286    27.0000           141.3548             3.0013             6.0026\n",
       "7af5cd16-b100-11e9-9757-000d3a38a36f             103.1429  111.8571    43.0000           157.1126             2.9780             5.9561\n",
       "d5ef8058-a5c6-11e9-a2fc-000d3a38a36f             133.1429  147.1429    49.0000           161.8467             2.8299             5.6598\n",
       "27310582-6362-11ea-a6dc-000d3a38a36f              62.7143   64.1429    29.0000           168.8810             2.7934             5.5869\n",
       "53fe00d4-7b7a-11eb-960b-000d3a38a36f               9.7143   13.0000    17.0000           259.8653             2.7807             5.5614\n",
       "e143b6fa-d6f8-11e9-93bc-000d3a38a36f             104.5714  113.4286    40.0000           176.2000             2.7635             5.5270"
      ]
     },
     "execution_count": 14,
     "metadata": {},
     "output_type": "execute_result"
    }
   ],
   "source": [
    "cltv.head(10)"
   ]
  },
  {
   "cell_type": "markdown",
   "id": "5fed033b",
   "metadata": {
    "papermill": {
     "duration": 0.01395,
     "end_time": "2024-09-08T16:48:52.722105",
     "exception": false,
     "start_time": "2024-09-08T16:48:52.708155",
     "status": "completed"
    },
    "tags": []
   },
   "source": [
    "Fit the Gamma-Gamma model. Estimate the average value that customers will leave and add it to the cltv dataframe as exp_average_value."
   ]
  },
  {
   "cell_type": "code",
   "execution_count": 15,
   "id": "66cde6a2",
   "metadata": {
    "execution": {
     "iopub.execute_input": "2024-09-08T16:48:52.752762Z",
     "iopub.status.busy": "2024-09-08T16:48:52.752081Z",
     "iopub.status.idle": "2024-09-08T16:48:52.947320Z",
     "shell.execute_reply": "2024-09-08T16:48:52.945660Z"
    },
    "papermill": {
     "duration": 0.213586,
     "end_time": "2024-09-08T16:48:52.950322",
     "exception": false,
     "start_time": "2024-09-08T16:48:52.736736",
     "status": "completed"
    },
    "tags": []
   },
   "outputs": [
    {
     "data": {
      "text/html": [
       "<div>\n",
       "<style scoped>\n",
       "    .dataframe tbody tr th:only-of-type {\n",
       "        vertical-align: middle;\n",
       "    }\n",
       "\n",
       "    .dataframe tbody tr th {\n",
       "        vertical-align: top;\n",
       "    }\n",
       "\n",
       "    .dataframe thead th {\n",
       "        text-align: right;\n",
       "    }\n",
       "</style>\n",
       "<table border=\"1\" class=\"dataframe\">\n",
       "  <thead>\n",
       "    <tr style=\"text-align: right;\">\n",
       "      <th></th>\n",
       "      <th>recency_cltv_weekly</th>\n",
       "      <th>T_weekly</th>\n",
       "      <th>frequency</th>\n",
       "      <th>monetary_cltv_avg</th>\n",
       "      <th>exp_sales_3_month</th>\n",
       "      <th>exp_sales_6_month</th>\n",
       "      <th>exp_average_value</th>\n",
       "    </tr>\n",
       "    <tr>\n",
       "      <th>master_id</th>\n",
       "      <th></th>\n",
       "      <th></th>\n",
       "      <th></th>\n",
       "      <th></th>\n",
       "      <th></th>\n",
       "      <th></th>\n",
       "      <th></th>\n",
       "    </tr>\n",
       "  </thead>\n",
       "  <tbody>\n",
       "    <tr>\n",
       "      <th>47a642fe-975b-11eb-8c2a-000d3a38a36f</th>\n",
       "      <td>2.8571</td>\n",
       "      <td>7.8571</td>\n",
       "      <td>4.0000</td>\n",
       "      <td>1401.8000</td>\n",
       "      <td>1.0944</td>\n",
       "      <td>2.1888</td>\n",
       "      <td>1449.0605</td>\n",
       "    </tr>\n",
       "    <tr>\n",
       "      <th>f59053e2-a503-11e9-a2fc-000d3a38a36f</th>\n",
       "      <td>51.7143</td>\n",
       "      <td>101.0000</td>\n",
       "      <td>7.0000</td>\n",
       "      <td>1106.4671</td>\n",
       "      <td>0.7222</td>\n",
       "      <td>1.4445</td>\n",
       "      <td>1127.6115</td>\n",
       "    </tr>\n",
       "    <tr>\n",
       "      <th>9083981a-f59e-11e9-841e-000d3a38a36f</th>\n",
       "      <td>63.5714</td>\n",
       "      <td>83.8571</td>\n",
       "      <td>4.0000</td>\n",
       "      <td>1090.3600</td>\n",
       "      <td>0.5746</td>\n",
       "      <td>1.1493</td>\n",
       "      <td>1127.3545</td>\n",
       "    </tr>\n",
       "    <tr>\n",
       "      <th>851de3b4-8f0c-11eb-8cb8-000d3a38a36f</th>\n",
       "      <td>8.2857</td>\n",
       "      <td>9.4286</td>\n",
       "      <td>2.0000</td>\n",
       "      <td>862.6900</td>\n",
       "      <td>0.7939</td>\n",
       "      <td>1.5878</td>\n",
       "      <td>923.6800</td>\n",
       "    </tr>\n",
       "    <tr>\n",
       "      <th>6fecd6c8-261a-11ea-8e1c-000d3a38a36f</th>\n",
       "      <td>57.0000</td>\n",
       "      <td>94.8571</td>\n",
       "      <td>2.0000</td>\n",
       "      <td>859.5800</td>\n",
       "      <td>0.3974</td>\n",
       "      <td>0.7947</td>\n",
       "      <td>920.3579</td>\n",
       "    </tr>\n",
       "    <tr>\n",
       "      <th>f02473b0-43c3-11eb-806e-000d3a38a36f</th>\n",
       "      <td>17.2857</td>\n",
       "      <td>23.1429</td>\n",
       "      <td>2.0000</td>\n",
       "      <td>835.8750</td>\n",
       "      <td>0.6843</td>\n",
       "      <td>1.3686</td>\n",
       "      <td>895.0369</td>\n",
       "    </tr>\n",
       "    <tr>\n",
       "      <th>ae4ce104-dbd4-11ea-8757-000d3a38a36f</th>\n",
       "      <td>3.7143</td>\n",
       "      <td>42.0000</td>\n",
       "      <td>3.0000</td>\n",
       "      <td>844.3467</td>\n",
       "      <td>0.6766</td>\n",
       "      <td>1.3533</td>\n",
       "      <td>883.2880</td>\n",
       "    </tr>\n",
       "    <tr>\n",
       "      <th>3a27b334-dff4-11ea-acaa-000d3a38a36f</th>\n",
       "      <td>40.0000</td>\n",
       "      <td>41.1429</td>\n",
       "      <td>3.0000</td>\n",
       "      <td>837.0567</td>\n",
       "      <td>0.6816</td>\n",
       "      <td>1.3632</td>\n",
       "      <td>875.6741</td>\n",
       "    </tr>\n",
       "    <tr>\n",
       "      <th>0c24fc44-2ac8-11ea-9d27-000d3a38a36f</th>\n",
       "      <td>68.0000</td>\n",
       "      <td>84.2857</td>\n",
       "      <td>2.0000</td>\n",
       "      <td>779.2650</td>\n",
       "      <td>0.4235</td>\n",
       "      <td>0.8471</td>\n",
       "      <td>834.5676</td>\n",
       "    </tr>\n",
       "    <tr>\n",
       "      <th>26ac1432-1dd3-11ea-8bf2-000d3a38a36f</th>\n",
       "      <td>55.7143</td>\n",
       "      <td>97.7143</td>\n",
       "      <td>3.0000</td>\n",
       "      <td>780.5567</td>\n",
       "      <td>0.4598</td>\n",
       "      <td>0.9197</td>\n",
       "      <td>816.6633</td>\n",
       "    </tr>\n",
       "  </tbody>\n",
       "</table>\n",
       "</div>"
      ],
      "text/plain": [
       "                                      recency_cltv_weekly  T_weekly  frequency  monetary_cltv_avg  exp_sales_3_month  exp_sales_6_month  exp_average_value\n",
       "master_id                                                                                                                                                 \n",
       "47a642fe-975b-11eb-8c2a-000d3a38a36f               2.8571    7.8571     4.0000          1401.8000             1.0944             2.1888          1449.0605\n",
       "f59053e2-a503-11e9-a2fc-000d3a38a36f              51.7143  101.0000     7.0000          1106.4671             0.7222             1.4445          1127.6115\n",
       "9083981a-f59e-11e9-841e-000d3a38a36f              63.5714   83.8571     4.0000          1090.3600             0.5746             1.1493          1127.3545\n",
       "851de3b4-8f0c-11eb-8cb8-000d3a38a36f               8.2857    9.4286     2.0000           862.6900             0.7939             1.5878           923.6800\n",
       "6fecd6c8-261a-11ea-8e1c-000d3a38a36f              57.0000   94.8571     2.0000           859.5800             0.3974             0.7947           920.3579\n",
       "f02473b0-43c3-11eb-806e-000d3a38a36f              17.2857   23.1429     2.0000           835.8750             0.6843             1.3686           895.0369\n",
       "ae4ce104-dbd4-11ea-8757-000d3a38a36f               3.7143   42.0000     3.0000           844.3467             0.6766             1.3533           883.2880\n",
       "3a27b334-dff4-11ea-acaa-000d3a38a36f              40.0000   41.1429     3.0000           837.0567             0.6816             1.3632           875.6741\n",
       "0c24fc44-2ac8-11ea-9d27-000d3a38a36f              68.0000   84.2857     2.0000           779.2650             0.4235             0.8471           834.5676\n",
       "26ac1432-1dd3-11ea-8bf2-000d3a38a36f              55.7143   97.7143     3.0000           780.5567             0.4598             0.9197           816.6633"
      ]
     },
     "execution_count": 15,
     "metadata": {},
     "output_type": "execute_result"
    }
   ],
   "source": [
    "ggf = GammaGammaFitter(penalizer_coef=0.01)\n",
    "\n",
    "ggf.fit(cltv['frequency'], cltv['monetary_cltv_avg'])\n",
    "\n",
    "cltv[\"exp_average_value\"] = ggf.conditional_expected_average_profit(cltv['frequency'],\n",
    "                                                                             cltv['monetary_cltv_avg'])\n",
    "cltv.sort_values(\"exp_average_value\", ascending=False).head(10)"
   ]
  },
  {
   "cell_type": "markdown",
   "id": "0dd40aa9",
   "metadata": {
    "papermill": {
     "duration": 0.02951,
     "end_time": "2024-09-08T16:48:53.009079",
     "exception": false,
     "start_time": "2024-09-08T16:48:52.979569",
     "status": "completed"
    },
    "tags": []
   },
   "source": [
    "Calculate the 6-month CLTV and add it to the dataframe as \"cltv\"."
   ]
  },
  {
   "cell_type": "code",
   "execution_count": 16,
   "id": "ca231a4d",
   "metadata": {
    "execution": {
     "iopub.execute_input": "2024-09-08T16:48:53.050930Z",
     "iopub.status.busy": "2024-09-08T16:48:53.050456Z",
     "iopub.status.idle": "2024-09-08T16:48:53.229555Z",
     "shell.execute_reply": "2024-09-08T16:48:53.228269Z"
    },
    "papermill": {
     "duration": 0.197423,
     "end_time": "2024-09-08T16:48:53.232247",
     "exception": false,
     "start_time": "2024-09-08T16:48:53.034824",
     "status": "completed"
    },
    "tags": []
   },
   "outputs": [
    {
     "data": {
      "text/html": [
       "<div>\n",
       "<style scoped>\n",
       "    .dataframe tbody tr th:only-of-type {\n",
       "        vertical-align: middle;\n",
       "    }\n",
       "\n",
       "    .dataframe tbody tr th {\n",
       "        vertical-align: top;\n",
       "    }\n",
       "\n",
       "    .dataframe thead th {\n",
       "        text-align: right;\n",
       "    }\n",
       "</style>\n",
       "<table border=\"1\" class=\"dataframe\">\n",
       "  <thead>\n",
       "    <tr style=\"text-align: right;\">\n",
       "      <th></th>\n",
       "      <th>recency_cltv_weekly</th>\n",
       "      <th>T_weekly</th>\n",
       "      <th>frequency</th>\n",
       "      <th>monetary_cltv_avg</th>\n",
       "      <th>exp_sales_3_month</th>\n",
       "      <th>exp_sales_6_month</th>\n",
       "      <th>exp_average_value</th>\n",
       "      <th>cltv</th>\n",
       "    </tr>\n",
       "    <tr>\n",
       "      <th>master_id</th>\n",
       "      <th></th>\n",
       "      <th></th>\n",
       "      <th></th>\n",
       "      <th></th>\n",
       "      <th></th>\n",
       "      <th></th>\n",
       "      <th></th>\n",
       "      <th></th>\n",
       "    </tr>\n",
       "  </thead>\n",
       "  <tbody>\n",
       "    <tr>\n",
       "      <th>a4d534a2-5b1b-11eb-8dbd-000d3a38a36f</th>\n",
       "      <td>62.7143</td>\n",
       "      <td>67.2857</td>\n",
       "      <td>52.0000</td>\n",
       "      <td>166.2246</td>\n",
       "      <td>4.6561</td>\n",
       "      <td>9.3123</td>\n",
       "      <td>166.7123</td>\n",
       "      <td>1628.8874</td>\n",
       "    </tr>\n",
       "    <tr>\n",
       "      <th>4a7e875e-e6ce-11ea-8f44-000d3a38a36f</th>\n",
       "      <td>39.7143</td>\n",
       "      <td>40.0000</td>\n",
       "      <td>29.0000</td>\n",
       "      <td>165.2976</td>\n",
       "      <td>3.3740</td>\n",
       "      <td>6.7479</td>\n",
       "      <td>166.1696</td>\n",
       "      <td>1176.4916</td>\n",
       "    </tr>\n",
       "    <tr>\n",
       "      <th>1902bf80-0035-11eb-8341-000d3a38a36f</th>\n",
       "      <td>28.8571</td>\n",
       "      <td>33.2857</td>\n",
       "      <td>25.0000</td>\n",
       "      <td>97.4396</td>\n",
       "      <td>3.1424</td>\n",
       "      <td>6.2848</td>\n",
       "      <td>98.1036</td>\n",
       "      <td>646.9094</td>\n",
       "    </tr>\n",
       "    <tr>\n",
       "      <th>55d54d9e-8ac7-11ea-8ec0-000d3a38a36f</th>\n",
       "      <td>52.5714</td>\n",
       "      <td>58.7143</td>\n",
       "      <td>31.0000</td>\n",
       "      <td>228.5300</td>\n",
       "      <td>3.0838</td>\n",
       "      <td>6.1676</td>\n",
       "      <td>229.6069</td>\n",
       "      <td>1485.8192</td>\n",
       "    </tr>\n",
       "    <tr>\n",
       "      <th>f00ad516-c4f4-11ea-98f7-000d3a38a36f</th>\n",
       "      <td>38.0000</td>\n",
       "      <td>46.4286</td>\n",
       "      <td>27.0000</td>\n",
       "      <td>141.3548</td>\n",
       "      <td>3.0013</td>\n",
       "      <td>6.0026</td>\n",
       "      <td>142.1780</td>\n",
       "      <td>895.4423</td>\n",
       "    </tr>\n",
       "  </tbody>\n",
       "</table>\n",
       "</div>"
      ],
      "text/plain": [
       "                                      recency_cltv_weekly  T_weekly  frequency  monetary_cltv_avg  exp_sales_3_month  exp_sales_6_month  exp_average_value      cltv\n",
       "master_id                                                                                                                                                           \n",
       "a4d534a2-5b1b-11eb-8dbd-000d3a38a36f              62.7143   67.2857    52.0000           166.2246             4.6561             9.3123           166.7123 1628.8874\n",
       "4a7e875e-e6ce-11ea-8f44-000d3a38a36f              39.7143   40.0000    29.0000           165.2976             3.3740             6.7479           166.1696 1176.4916\n",
       "1902bf80-0035-11eb-8341-000d3a38a36f              28.8571   33.2857    25.0000            97.4396             3.1424             6.2848            98.1036  646.9094\n",
       "55d54d9e-8ac7-11ea-8ec0-000d3a38a36f              52.5714   58.7143    31.0000           228.5300             3.0838             6.1676           229.6069 1485.8192\n",
       "f00ad516-c4f4-11ea-98f7-000d3a38a36f              38.0000   46.4286    27.0000           141.3548             3.0013             6.0026           142.1780  895.4423"
      ]
     },
     "execution_count": 16,
     "metadata": {},
     "output_type": "execute_result"
    }
   ],
   "source": [
    "cltv[\"cltv\"] = ggf.customer_lifetime_value(bgf,\n",
    "                                   cltv['frequency'],\n",
    "                                   cltv['recency_cltv_weekly'],\n",
    "                                   cltv['T_weekly'],\n",
    "                                   cltv['monetary_cltv_avg'],\n",
    "                                   time=6,\n",
    "                                   freq=\"W\",\n",
    "                                   discount_rate=0.01)\n",
    "\n",
    "cltv.head()"
   ]
  },
  {
   "cell_type": "markdown",
   "id": "db4d001d",
   "metadata": {
    "papermill": {
     "duration": 0.014045,
     "end_time": "2024-09-08T16:48:53.260712",
     "exception": false,
     "start_time": "2024-09-08T16:48:53.246667",
     "status": "completed"
    },
    "tags": []
   },
   "source": [
    "Review the 20 people with the highest CLTV values."
   ]
  },
  {
   "cell_type": "code",
   "execution_count": 17,
   "id": "cd894bc5",
   "metadata": {
    "execution": {
     "iopub.execute_input": "2024-09-08T16:48:53.291815Z",
     "iopub.status.busy": "2024-09-08T16:48:53.290595Z",
     "iopub.status.idle": "2024-09-08T16:48:53.326972Z",
     "shell.execute_reply": "2024-09-08T16:48:53.325437Z"
    },
    "papermill": {
     "duration": 0.055432,
     "end_time": "2024-09-08T16:48:53.330325",
     "exception": false,
     "start_time": "2024-09-08T16:48:53.274893",
     "status": "completed"
    },
    "tags": []
   },
   "outputs": [
    {
     "data": {
      "text/html": [
       "<div>\n",
       "<style scoped>\n",
       "    .dataframe tbody tr th:only-of-type {\n",
       "        vertical-align: middle;\n",
       "    }\n",
       "\n",
       "    .dataframe tbody tr th {\n",
       "        vertical-align: top;\n",
       "    }\n",
       "\n",
       "    .dataframe thead th {\n",
       "        text-align: right;\n",
       "    }\n",
       "</style>\n",
       "<table border=\"1\" class=\"dataframe\">\n",
       "  <thead>\n",
       "    <tr style=\"text-align: right;\">\n",
       "      <th></th>\n",
       "      <th>master_id</th>\n",
       "      <th>recency_cltv_weekly</th>\n",
       "      <th>T_weekly</th>\n",
       "      <th>frequency</th>\n",
       "      <th>monetary_cltv_avg</th>\n",
       "      <th>exp_sales_3_month</th>\n",
       "      <th>exp_sales_6_month</th>\n",
       "      <th>exp_average_value</th>\n",
       "      <th>cltv</th>\n",
       "    </tr>\n",
       "  </thead>\n",
       "  <tbody>\n",
       "    <tr>\n",
       "      <th>0</th>\n",
       "      <td>47a642fe-975b-11eb-8c2a-000d3a38a36f</td>\n",
       "      <td>2.8571</td>\n",
       "      <td>7.8571</td>\n",
       "      <td>4.0000</td>\n",
       "      <td>1401.8000</td>\n",
       "      <td>1.0944</td>\n",
       "      <td>2.1888</td>\n",
       "      <td>1449.0605</td>\n",
       "      <td>3327.7770</td>\n",
       "    </tr>\n",
       "    <tr>\n",
       "      <th>1</th>\n",
       "      <td>7137a5c0-7aad-11ea-8f20-000d3a38a36f</td>\n",
       "      <td>6.1429</td>\n",
       "      <td>13.1429</td>\n",
       "      <td>11.0000</td>\n",
       "      <td>758.0855</td>\n",
       "      <td>1.9701</td>\n",
       "      <td>3.9402</td>\n",
       "      <td>767.3606</td>\n",
       "      <td>3172.3944</td>\n",
       "    </tr>\n",
       "    <tr>\n",
       "      <th>2</th>\n",
       "      <td>f59053e2-a503-11e9-a2fc-000d3a38a36f</td>\n",
       "      <td>51.7143</td>\n",
       "      <td>101.0000</td>\n",
       "      <td>7.0000</td>\n",
       "      <td>1106.4671</td>\n",
       "      <td>0.7222</td>\n",
       "      <td>1.4445</td>\n",
       "      <td>1127.6115</td>\n",
       "      <td>1708.9821</td>\n",
       "    </tr>\n",
       "    <tr>\n",
       "      <th>3</th>\n",
       "      <td>625f40a2-5bd2-11ea-98b0-000d3a38a36f</td>\n",
       "      <td>74.2857</td>\n",
       "      <td>74.5714</td>\n",
       "      <td>16.0000</td>\n",
       "      <td>501.8737</td>\n",
       "      <td>1.5653</td>\n",
       "      <td>3.1306</td>\n",
       "      <td>506.1667</td>\n",
       "      <td>1662.6135</td>\n",
       "    </tr>\n",
       "    <tr>\n",
       "      <th>4</th>\n",
       "      <td>a4d534a2-5b1b-11eb-8dbd-000d3a38a36f</td>\n",
       "      <td>62.7143</td>\n",
       "      <td>67.2857</td>\n",
       "      <td>52.0000</td>\n",
       "      <td>166.2246</td>\n",
       "      <td>4.6561</td>\n",
       "      <td>9.3123</td>\n",
       "      <td>166.7123</td>\n",
       "      <td>1628.8874</td>\n",
       "    </tr>\n",
       "    <tr>\n",
       "      <th>5</th>\n",
       "      <td>9ce6e520-89b0-11ea-a6e7-000d3a38a36f</td>\n",
       "      <td>3.4286</td>\n",
       "      <td>34.4286</td>\n",
       "      <td>8.0000</td>\n",
       "      <td>601.2262</td>\n",
       "      <td>1.2655</td>\n",
       "      <td>2.5309</td>\n",
       "      <td>611.4926</td>\n",
       "      <td>1623.8127</td>\n",
       "    </tr>\n",
       "    <tr>\n",
       "      <th>6</th>\n",
       "      <td>851de3b4-8f0c-11eb-8cb8-000d3a38a36f</td>\n",
       "      <td>8.2857</td>\n",
       "      <td>9.4286</td>\n",
       "      <td>2.0000</td>\n",
       "      <td>862.6900</td>\n",
       "      <td>0.7939</td>\n",
       "      <td>1.5878</td>\n",
       "      <td>923.6800</td>\n",
       "      <td>1538.8559</td>\n",
       "    </tr>\n",
       "    <tr>\n",
       "      <th>7</th>\n",
       "      <td>53fe00d4-7b7a-11eb-960b-000d3a38a36f</td>\n",
       "      <td>9.7143</td>\n",
       "      <td>13.0000</td>\n",
       "      <td>17.0000</td>\n",
       "      <td>259.8653</td>\n",
       "      <td>2.7807</td>\n",
       "      <td>5.5614</td>\n",
       "      <td>262.0729</td>\n",
       "      <td>1529.2280</td>\n",
       "    </tr>\n",
       "    <tr>\n",
       "      <th>8</th>\n",
       "      <td>55d54d9e-8ac7-11ea-8ec0-000d3a38a36f</td>\n",
       "      <td>52.5714</td>\n",
       "      <td>58.7143</td>\n",
       "      <td>31.0000</td>\n",
       "      <td>228.5300</td>\n",
       "      <td>3.0838</td>\n",
       "      <td>6.1676</td>\n",
       "      <td>229.6069</td>\n",
       "      <td>1485.8192</td>\n",
       "    </tr>\n",
       "    <tr>\n",
       "      <th>9</th>\n",
       "      <td>031b2954-6d28-11eb-99c4-000d3a38a36f</td>\n",
       "      <td>14.8571</td>\n",
       "      <td>15.5714</td>\n",
       "      <td>3.0000</td>\n",
       "      <td>743.5867</td>\n",
       "      <td>0.8716</td>\n",
       "      <td>1.7431</td>\n",
       "      <td>778.0504</td>\n",
       "      <td>1422.9997</td>\n",
       "    </tr>\n",
       "    <tr>\n",
       "      <th>10</th>\n",
       "      <td>8fd88976-6708-11ea-9d38-000d3a38a36f</td>\n",
       "      <td>50.2857</td>\n",
       "      <td>63.2857</td>\n",
       "      <td>7.0000</td>\n",
       "      <td>694.1986</td>\n",
       "      <td>0.9176</td>\n",
       "      <td>1.8351</td>\n",
       "      <td>707.6856</td>\n",
       "      <td>1362.6072</td>\n",
       "    </tr>\n",
       "    <tr>\n",
       "      <th>11</th>\n",
       "      <td>9083981a-f59e-11e9-841e-000d3a38a36f</td>\n",
       "      <td>63.5714</td>\n",
       "      <td>83.8571</td>\n",
       "      <td>4.0000</td>\n",
       "      <td>1090.3600</td>\n",
       "      <td>0.5746</td>\n",
       "      <td>1.1493</td>\n",
       "      <td>1127.3545</td>\n",
       "      <td>1359.4397</td>\n",
       "    </tr>\n",
       "    <tr>\n",
       "      <th>12</th>\n",
       "      <td>40b4f318-9dfb-11eb-9c47-000d3a38a36f</td>\n",
       "      <td>27.1429</td>\n",
       "      <td>33.8571</td>\n",
       "      <td>7.0000</td>\n",
       "      <td>544.7000</td>\n",
       "      <td>1.1630</td>\n",
       "      <td>2.3259</td>\n",
       "      <td>555.4103</td>\n",
       "      <td>1355.4352</td>\n",
       "    </tr>\n",
       "    <tr>\n",
       "      <th>13</th>\n",
       "      <td>7eed6468-4540-11ea-acaf-000d3a38a36f</td>\n",
       "      <td>89.1429</td>\n",
       "      <td>90.0000</td>\n",
       "      <td>27.0000</td>\n",
       "      <td>289.7641</td>\n",
       "      <td>2.2143</td>\n",
       "      <td>4.4287</td>\n",
       "      <td>291.2922</td>\n",
       "      <td>1353.5337</td>\n",
       "    </tr>\n",
       "    <tr>\n",
       "      <th>14</th>\n",
       "      <td>dbabb58e-6312-11ea-a6dc-000d3a38a36f</td>\n",
       "      <td>61.2857</td>\n",
       "      <td>64.2857</td>\n",
       "      <td>13.0000</td>\n",
       "      <td>442.1154</td>\n",
       "      <td>1.4236</td>\n",
       "      <td>2.8473</td>\n",
       "      <td>446.8162</td>\n",
       "      <td>1334.8251</td>\n",
       "    </tr>\n",
       "    <tr>\n",
       "      <th>15</th>\n",
       "      <td>90f1b7f2-bbad-11ea-a0c9-000d3a38a36f</td>\n",
       "      <td>47.2857</td>\n",
       "      <td>48.0000</td>\n",
       "      <td>6.0000</td>\n",
       "      <td>647.3450</td>\n",
       "      <td>0.9339</td>\n",
       "      <td>1.8677</td>\n",
       "      <td>662.1103</td>\n",
       "      <td>1297.5186</td>\n",
       "    </tr>\n",
       "    <tr>\n",
       "      <th>16</th>\n",
       "      <td>d2e74a36-3228-11eb-860c-000d3a38a36f</td>\n",
       "      <td>1.1429</td>\n",
       "      <td>26.2857</td>\n",
       "      <td>3.0000</td>\n",
       "      <td>750.5700</td>\n",
       "      <td>0.7804</td>\n",
       "      <td>1.5608</td>\n",
       "      <td>785.3440</td>\n",
       "      <td>1286.1378</td>\n",
       "    </tr>\n",
       "    <tr>\n",
       "      <th>17</th>\n",
       "      <td>f02473b0-43c3-11eb-806e-000d3a38a36f</td>\n",
       "      <td>17.2857</td>\n",
       "      <td>23.1429</td>\n",
       "      <td>2.0000</td>\n",
       "      <td>835.8750</td>\n",
       "      <td>0.6843</td>\n",
       "      <td>1.3686</td>\n",
       "      <td>895.0369</td>\n",
       "      <td>1285.2277</td>\n",
       "    </tr>\n",
       "    <tr>\n",
       "      <th>18</th>\n",
       "      <td>e31293ac-d63a-11e9-93bc-000d3a38a36f</td>\n",
       "      <td>91.7143</td>\n",
       "      <td>93.1429</td>\n",
       "      <td>8.0000</td>\n",
       "      <td>727.0862</td>\n",
       "      <td>0.8266</td>\n",
       "      <td>1.6533</td>\n",
       "      <td>739.3933</td>\n",
       "      <td>1282.5758</td>\n",
       "    </tr>\n",
       "    <tr>\n",
       "      <th>19</th>\n",
       "      <td>90befc98-925a-11eb-b584-000d3a38a36f</td>\n",
       "      <td>4.1429</td>\n",
       "      <td>8.8571</td>\n",
       "      <td>6.0000</td>\n",
       "      <td>431.3283</td>\n",
       "      <td>1.3638</td>\n",
       "      <td>2.7275</td>\n",
       "      <td>441.3982</td>\n",
       "      <td>1263.1912</td>\n",
       "    </tr>\n",
       "  </tbody>\n",
       "</table>\n",
       "</div>"
      ],
      "text/plain": [
       "                               master_id  recency_cltv_weekly  T_weekly  frequency  monetary_cltv_avg  exp_sales_3_month  exp_sales_6_month  exp_average_value      cltv\n",
       "0   47a642fe-975b-11eb-8c2a-000d3a38a36f               2.8571    7.8571     4.0000          1401.8000             1.0944             2.1888          1449.0605 3327.7770\n",
       "1   7137a5c0-7aad-11ea-8f20-000d3a38a36f               6.1429   13.1429    11.0000           758.0855             1.9701             3.9402           767.3606 3172.3944\n",
       "2   f59053e2-a503-11e9-a2fc-000d3a38a36f              51.7143  101.0000     7.0000          1106.4671             0.7222             1.4445          1127.6115 1708.9821\n",
       "3   625f40a2-5bd2-11ea-98b0-000d3a38a36f              74.2857   74.5714    16.0000           501.8737             1.5653             3.1306           506.1667 1662.6135\n",
       "4   a4d534a2-5b1b-11eb-8dbd-000d3a38a36f              62.7143   67.2857    52.0000           166.2246             4.6561             9.3123           166.7123 1628.8874\n",
       "5   9ce6e520-89b0-11ea-a6e7-000d3a38a36f               3.4286   34.4286     8.0000           601.2262             1.2655             2.5309           611.4926 1623.8127\n",
       "6   851de3b4-8f0c-11eb-8cb8-000d3a38a36f               8.2857    9.4286     2.0000           862.6900             0.7939             1.5878           923.6800 1538.8559\n",
       "7   53fe00d4-7b7a-11eb-960b-000d3a38a36f               9.7143   13.0000    17.0000           259.8653             2.7807             5.5614           262.0729 1529.2280\n",
       "8   55d54d9e-8ac7-11ea-8ec0-000d3a38a36f              52.5714   58.7143    31.0000           228.5300             3.0838             6.1676           229.6069 1485.8192\n",
       "9   031b2954-6d28-11eb-99c4-000d3a38a36f              14.8571   15.5714     3.0000           743.5867             0.8716             1.7431           778.0504 1422.9997\n",
       "10  8fd88976-6708-11ea-9d38-000d3a38a36f              50.2857   63.2857     7.0000           694.1986             0.9176             1.8351           707.6856 1362.6072\n",
       "11  9083981a-f59e-11e9-841e-000d3a38a36f              63.5714   83.8571     4.0000          1090.3600             0.5746             1.1493          1127.3545 1359.4397\n",
       "12  40b4f318-9dfb-11eb-9c47-000d3a38a36f              27.1429   33.8571     7.0000           544.7000             1.1630             2.3259           555.4103 1355.4352\n",
       "13  7eed6468-4540-11ea-acaf-000d3a38a36f              89.1429   90.0000    27.0000           289.7641             2.2143             4.4287           291.2922 1353.5337\n",
       "14  dbabb58e-6312-11ea-a6dc-000d3a38a36f              61.2857   64.2857    13.0000           442.1154             1.4236             2.8473           446.8162 1334.8251\n",
       "15  90f1b7f2-bbad-11ea-a0c9-000d3a38a36f              47.2857   48.0000     6.0000           647.3450             0.9339             1.8677           662.1103 1297.5186\n",
       "16  d2e74a36-3228-11eb-860c-000d3a38a36f               1.1429   26.2857     3.0000           750.5700             0.7804             1.5608           785.3440 1286.1378\n",
       "17  f02473b0-43c3-11eb-806e-000d3a38a36f              17.2857   23.1429     2.0000           835.8750             0.6843             1.3686           895.0369 1285.2277\n",
       "18  e31293ac-d63a-11e9-93bc-000d3a38a36f              91.7143   93.1429     8.0000           727.0862             0.8266             1.6533           739.3933 1282.5758\n",
       "19  90befc98-925a-11eb-b584-000d3a38a36f               4.1429    8.8571     6.0000           431.3283             1.3638             2.7275           441.3982 1263.1912"
      ]
     },
     "execution_count": 17,
     "metadata": {},
     "output_type": "execute_result"
    }
   ],
   "source": [
    "cltv = cltv.reset_index()\n",
    "cltv.sort_values(\"cltv\", ascending=False, ignore_index=True).head(20)"
   ]
  },
  {
   "cell_type": "markdown",
   "id": "4d68a609",
   "metadata": {
    "papermill": {
     "duration": 0.017093,
     "end_time": "2024-09-08T16:48:53.363481",
     "exception": false,
     "start_time": "2024-09-08T16:48:53.346388",
     "status": "completed"
    },
    "tags": []
   },
   "source": [
    "Divide all your customers into 4 groups (segments) based '6-month cltv' and add the group names to the data set as 'cltv_segment'."
   ]
  },
  {
   "cell_type": "code",
   "execution_count": 18,
   "id": "25558a4c",
   "metadata": {
    "execution": {
     "iopub.execute_input": "2024-09-08T16:48:53.397757Z",
     "iopub.status.busy": "2024-09-08T16:48:53.397263Z",
     "iopub.status.idle": "2024-09-08T16:48:53.414304Z",
     "shell.execute_reply": "2024-09-08T16:48:53.412656Z"
    },
    "papermill": {
     "duration": 0.038311,
     "end_time": "2024-09-08T16:48:53.417497",
     "exception": false,
     "start_time": "2024-09-08T16:48:53.379186",
     "status": "completed"
    },
    "tags": []
   },
   "outputs": [],
   "source": [
    "cltv[\"cltv_segment\"] = pd.qcut(cltv[\"cltv\"], 4, labels=[\"D\", \"C\", \"B\", \"A\"])"
   ]
  },
  {
   "cell_type": "markdown",
   "id": "d982a32d",
   "metadata": {
    "papermill": {
     "duration": 0.019916,
     "end_time": "2024-09-08T16:48:53.453580",
     "exception": false,
     "start_time": "2024-09-08T16:48:53.433664",
     "status": "completed"
    },
    "tags": []
   },
   "source": [
    "Examine the recency, frequency and monetary averages of the segments."
   ]
  },
  {
   "cell_type": "code",
   "execution_count": 19,
   "id": "3e6faa4e",
   "metadata": {
    "execution": {
     "iopub.execute_input": "2024-09-08T16:48:53.498585Z",
     "iopub.status.busy": "2024-09-08T16:48:53.497605Z",
     "iopub.status.idle": "2024-09-08T16:48:53.523751Z",
     "shell.execute_reply": "2024-09-08T16:48:53.522152Z"
    },
    "papermill": {
     "duration": 0.052806,
     "end_time": "2024-09-08T16:48:53.527749",
     "exception": false,
     "start_time": "2024-09-08T16:48:53.474943",
     "status": "completed"
    },
    "tags": []
   },
   "outputs": [
    {
     "data": {
      "text/html": [
       "<div>\n",
       "<style scoped>\n",
       "    .dataframe tbody tr th:only-of-type {\n",
       "        vertical-align: middle;\n",
       "    }\n",
       "\n",
       "    .dataframe tbody tr th {\n",
       "        vertical-align: top;\n",
       "    }\n",
       "\n",
       "    .dataframe thead th {\n",
       "        text-align: right;\n",
       "    }\n",
       "</style>\n",
       "<table border=\"1\" class=\"dataframe\">\n",
       "  <thead>\n",
       "    <tr style=\"text-align: right;\">\n",
       "      <th></th>\n",
       "      <th>recency_cltv_weekly</th>\n",
       "      <th>frequency</th>\n",
       "      <th>monetary_cltv_avg</th>\n",
       "    </tr>\n",
       "    <tr>\n",
       "      <th>cltv_segment</th>\n",
       "      <th></th>\n",
       "      <th></th>\n",
       "      <th></th>\n",
       "    </tr>\n",
       "  </thead>\n",
       "  <tbody>\n",
       "    <tr>\n",
       "      <th>D</th>\n",
       "      <td>139.0002</td>\n",
       "      <td>3.7688</td>\n",
       "      <td>93.1516</td>\n",
       "    </tr>\n",
       "    <tr>\n",
       "      <th>C</th>\n",
       "      <td>92.6295</td>\n",
       "      <td>4.4047</td>\n",
       "      <td>125.7885</td>\n",
       "    </tr>\n",
       "    <tr>\n",
       "      <th>B</th>\n",
       "      <td>81.9884</td>\n",
       "      <td>5.0927</td>\n",
       "      <td>160.6366</td>\n",
       "    </tr>\n",
       "    <tr>\n",
       "      <th>A</th>\n",
       "      <td>67.4271</td>\n",
       "      <td>6.6466</td>\n",
       "      <td>228.8311</td>\n",
       "    </tr>\n",
       "  </tbody>\n",
       "</table>\n",
       "</div>"
      ],
      "text/plain": [
       "              recency_cltv_weekly  frequency  monetary_cltv_avg\n",
       "cltv_segment                                                   \n",
       "D                        139.0002     3.7688            93.1516\n",
       "C                         92.6295     4.4047           125.7885\n",
       "B                         81.9884     5.0927           160.6366\n",
       "A                         67.4271     6.6466           228.8311"
      ]
     },
     "execution_count": 19,
     "metadata": {},
     "output_type": "execute_result"
    }
   ],
   "source": [
    "cltv.groupby(\"cltv_segment\").agg({\"recency_cltv_weekly\": \"mean\",\n",
    "                                                  \"frequency\": \"mean\",\n",
    "                                                  \"monetary_cltv_avg\": \"mean\"})"
   ]
  },
  {
   "cell_type": "markdown",
   "id": "b39022b4",
   "metadata": {
    "papermill": {
     "duration": 0.016059,
     "end_time": "2024-09-08T16:48:53.565448",
     "exception": false,
     "start_time": "2024-09-08T16:48:53.549389",
     "status": "completed"
    },
    "tags": []
   },
   "source": [
    "Bonus?"
   ]
  }
 ],
 "metadata": {
  "kaggle": {
   "accelerator": "none",
   "dataSources": [
    {
     "datasetId": 5660568,
     "sourceId": 9340490,
     "sourceType": "datasetVersion"
    }
   ],
   "dockerImageVersionId": 30761,
   "isGpuEnabled": false,
   "isInternetEnabled": true,
   "language": "python",
   "sourceType": "notebook"
  },
  "kernelspec": {
   "display_name": "Python 3",
   "language": "python",
   "name": "python3"
  },
  "language_info": {
   "codemirror_mode": {
    "name": "ipython",
    "version": 3
   },
   "file_extension": ".py",
   "mimetype": "text/x-python",
   "name": "python",
   "nbconvert_exporter": "python",
   "pygments_lexer": "ipython3",
   "version": "3.10.14"
  },
  "papermill": {
   "default_parameters": {},
   "duration": 29.384493,
   "end_time": "2024-09-08T16:48:54.304302",
   "environment_variables": {},
   "exception": null,
   "input_path": "__notebook__.ipynb",
   "output_path": "__notebook__.ipynb",
   "parameters": {},
   "start_time": "2024-09-08T16:48:24.919809",
   "version": "2.6.0"
  }
 },
 "nbformat": 4,
 "nbformat_minor": 5
}
